{
 "cells": [
  {
   "cell_type": "code",
   "execution_count": 1,
   "id": "181c3db5",
   "metadata": {},
   "outputs": [],
   "source": [
    "import pandas as pd"
   ]
  },
  {
   "cell_type": "code",
   "execution_count": 2,
   "id": "a966a19b",
   "metadata": {},
   "outputs": [],
   "source": [
    "#loading dataset\n",
    "df=pd.read_csv('CanadaData.csv')"
   ]
  },
  {
   "cell_type": "code",
   "execution_count": 3,
   "id": "51e3c4fd",
   "metadata": {},
   "outputs": [
    {
     "name": "stdout",
     "output_type": "stream",
     "text": [
      "   Year          Company Size  \\\n",
      "0  2023    10 to 19 employees   \n",
      "1  2023  100 to 499 employees   \n",
      "2  2023    20 to 99 employees   \n",
      "3  2023    20 to 99 employees   \n",
      "4  2023  100 to 499 employees   \n",
      "\n",
      "                                            Industry        Experience  \\\n",
      "0  Information Services, IT, Software Development...      5 to 9 years   \n",
      "1     Manufacturing, Transportation, or Supply Chain  10 or more years   \n",
      "2  Information Services, IT, Software Development...      2 to 4 years   \n",
      "3     Manufacturing, Transportation, or Supply Chain      5 to 9 years   \n",
      "4  Information Services, IT, Software Development...      5 to 9 years   \n",
      "\n",
      "                                           Title Country  Salary (USD)  \\\n",
      "0  Data scientist or machine learning specialist  Canada       52046.0   \n",
      "1                          Developer, full-stack  Canada       64686.0   \n",
      "2                          Developer, full-stack  Canada       59481.0   \n",
      "3                       Data or business analyst  Canada       63199.0   \n",
      "4                           Developer, front-end  Canada       53533.0   \n",
      "\n",
      "                         City  \n",
      "0                     Halifax  \n",
      "1                    Montreal  \n",
      "2  Hamilton–Niagara Peninsula  \n",
      "3                     Halifax  \n",
      "4                    Montreal  \n"
     ]
    }
   ],
   "source": [
    "# Understaanding the data\n",
    "print(df.head())"
   ]
  },
  {
   "cell_type": "code",
   "execution_count": 4,
   "id": "3b603a5e",
   "metadata": {},
   "outputs": [
    {
     "name": "stdout",
     "output_type": "stream",
     "text": [
      "<class 'pandas.core.frame.DataFrame'>\n",
      "RangeIndex: 7038 entries, 0 to 7037\n",
      "Data columns (total 8 columns):\n",
      " #   Column        Non-Null Count  Dtype  \n",
      "---  ------        --------------  -----  \n",
      " 0   Year          7038 non-null   int64  \n",
      " 1   Company Size  7038 non-null   object \n",
      " 2   Industry      7038 non-null   object \n",
      " 3   Experience    7038 non-null   object \n",
      " 4   Title         7038 non-null   object \n",
      " 5   Country       7038 non-null   object \n",
      " 6   Salary (USD)  7038 non-null   float64\n",
      " 7   City          7038 non-null   object \n",
      "dtypes: float64(1), int64(1), object(6)\n",
      "memory usage: 440.0+ KB\n",
      "None\n"
     ]
    }
   ],
   "source": [
    "#basic info \n",
    "print(df.info())"
   ]
  },
  {
   "cell_type": "code",
   "execution_count": 8,
   "id": "49be4ef3",
   "metadata": {},
   "outputs": [
    {
     "name": "stdout",
     "output_type": "stream",
     "text": [
      "              Year   Salary (USD)\n",
      "count  7038.000000    7038.000000\n",
      "mean   2019.778204   66177.189852\n",
      "std       2.219156   19169.899331\n",
      "min    2011.000000   13614.000000\n",
      "25%    2019.000000   52942.000000\n",
      "50%    2020.000000   65000.000000\n",
      "75%    2021.000000   79413.000000\n",
      "max    2023.000000  111178.000000\n"
     ]
    }
   ],
   "source": [
    "#summary statstics\n",
    "print(df.describe())"
   ]
  },
  {
   "cell_type": "code",
   "execution_count": 6,
   "id": "f28eb0f3",
   "metadata": {},
   "outputs": [
    {
     "name": "stdout",
     "output_type": "stream",
     "text": [
      "Year            0\n",
      "Company Size    0\n",
      "Industry        0\n",
      "Experience      0\n",
      "Title           0\n",
      "Country         0\n",
      "Salary (USD)    0\n",
      "City            0\n",
      "dtype: int64\n"
     ]
    }
   ],
   "source": [
    "# checking missing values\n",
    "print(df.isnull().sum())"
   ]
  },
  {
   "cell_type": "code",
   "execution_count": 13,
   "id": "b48ec7fe",
   "metadata": {},
   "outputs": [],
   "source": [
    "# comparison\n",
    "salary_by_experience = df.groupby('Experience')['Salary (USD)'].mean()"
   ]
  },
  {
   "cell_type": "code",
   "execution_count": 14,
   "id": "8fd20360",
   "metadata": {},
   "outputs": [
    {
     "name": "stdout",
     "output_type": "stream",
     "text": [
      "Experience\n",
      "0 to 1 years        38156.975449\n",
      "10 or more years    79365.206515\n",
      "2 to 4 years        51588.928065\n",
      "5 to 9 years        64010.787290\n",
      "Name: Salary (USD), dtype: float64\n"
     ]
    }
   ],
   "source": [
    "print(salary_by_experience)"
   ]
  },
  {
   "cell_type": "code",
   "execution_count": 15,
   "id": "ebb0104c",
   "metadata": {},
   "outputs": [],
   "source": [
    "# data visualization\n",
    "import matplotlib.pyplot as plt\n",
    "import seaborn as sns"
   ]
  },
  {
   "cell_type": "code",
   "execution_count": 17,
   "id": "a684b019",
   "metadata": {},
   "outputs": [
    {
     "data": {
      "image/png": "[encoded data removed]",
      "text/plain": [
       "<Figure size 432x288 with 1 Axes>"
      ]
     },
     "metadata": {
      "needs_background": "light"
     },
     "output_type": "display_data"
    }
   ],
   "source": [
    "sns.histplot(df['Experience'])\n",
    "plt.show()"
   ]
  },
  {
   "cell_type": "raw",
   "id": "b1e2878f",
   "metadata": {},
   "source": []
  },
  {
   "cell_type": "code",
   "execution_count": 19,
   "id": "77456060",
   "metadata": {},
   "outputs": [
    {
     "data": {
      "image/png": "[encoded data removed]",
      "text/plain": [
       "<Figure size 432x288 with 1 Axes>"
      ]
     },
     "metadata": {
      "needs_background": "light"
     },
     "output_type": "display_data"
    }
   ],
   "source": [
    "sns.scatterplot(x='Experience',y='Salary (USD)', data=df)\n",
    "plt.show()"
   ]
  },
  {
   "cell_type": "code",
   "execution_count": null,
   "id": "4f405824",
   "metadata": {},
   "outputs": [],
   "source": []
  }
 ],
 "metadata": {
  "kernelspec": {
   "display_name": "Python 3 (ipykernel)",
   "language": "python",
   "name": "python3"
  },
  "language_info": {
   "codemirror_mode": {
    "name": "ipython",
    "version": 3
   },
   "file_extension": ".py",
   "mimetype": "text/x-python",
   "name": "python",
   "nbconvert_exporter": "python",
   "pygments_lexer": "ipython3",
   "version": "3.9.12"
  }
 },
 "nbformat": 4,
 "nbformat_minor": 5
}
